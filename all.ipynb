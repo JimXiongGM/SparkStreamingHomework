{
 "cells": [
  {
   "cell_type": "markdown",
   "metadata": {},
   "source": [
    "# upload file\n",
    "\n",
    "上传文件到hadoop"
   ]
  },
  {
   "cell_type": "code",
   "execution_count": 40,
   "metadata": {},
   "outputs": [],
   "source": [
    "from glob import glob\n",
    "from tqdm import tqdm\n",
    "from hdfs import InsecureClient\n"
   ]
  },
  {
   "cell_type": "code",
   "execution_count": 41,
   "metadata": {},
   "outputs": [],
   "source": [
    "patt=\"follower/cpu1/test*/raft/node1/region000100000000/statemachine.log\"\n",
    "# test 1 - test 20\n",
    "paths = glob(patt)\n",
    "paths.sort(key=lambda x: int(x.split('/')[2][4:]))"
   ]
  },
  {
   "cell_type": "code",
   "execution_count": 42,
   "metadata": {},
   "outputs": [
    {
     "name": "stdout",
     "output_type": "stream",
     "text": [
      "operator,term,index,raftTime,prevApplyTime,valueSize\n",
      "InsertRowNode,1,1,1685462268278,1685462268525,100\n",
      "InsertRowNode,1,3,1685462268829,1685462268840,100\n",
      "InsertRowNode,1,5,1685462270667,1685462270676,100\n",
      "InsertRowNode,1,7,1685462271355,1685462271362,100\n",
      "InsertRowNode,1,9,1685462271404,1685462271410,100\n",
      "InsertRowNode,1,11,1685462271489,1685462271495,100\n",
      "InsertRowNode,1,13,1685462271588,1685462271594,100\n",
      "InsertRowNode,1,15,1685462272401,1685462272407,100\n",
      "InsertRowNode,1,17,1685462272506,1685462272512,100\n"
     ]
    }
   ],
   "source": [
    "!head follower/cpu1/test1/raft/node1/region000100000000/statemachine.log"
   ]
  },
  {
   "cell_type": "code",
   "execution_count": 43,
   "metadata": {},
   "outputs": [
    {
     "data": {
      "text/plain": [
       "['raftlog', 'user']"
      ]
     },
     "execution_count": 43,
     "metadata": {},
     "output_type": "execute_result"
    }
   ],
   "source": [
    "client = InsecureClient(\"http://localhost:9870\", user=\"jimx\")\n",
    "client.list(\"/\")"
   ]
  },
  {
   "cell_type": "code",
   "execution_count": 44,
   "metadata": {},
   "outputs": [],
   "source": [
    "client.makedirs(\"/raftlog/cpu\")"
   ]
  },
  {
   "cell_type": "code",
   "execution_count": 45,
   "metadata": {},
   "outputs": [
    {
     "data": {
      "text/plain": [
       "['cpu']"
      ]
     },
     "execution_count": 45,
     "metadata": {},
     "output_type": "execute_result"
    }
   ],
   "source": [
    "client.list(\"/raftlog\")"
   ]
  },
  {
   "cell_type": "code",
   "execution_count": 46,
   "metadata": {},
   "outputs": [
    {
     "name": "stderr",
     "output_type": "stream",
     "text": [
      "  0%|          | 0/19 [00:00<?, ?it/s]\n"
     ]
    },
    {
     "ename": "HdfsError",
     "evalue": "Remote path '/raftlog/cpu/test1/statemachine.log' already exists.",
     "output_type": "error",
     "traceback": [
      "\u001b[0;31m---------------------------------------------------------------------------\u001b[0m",
      "\u001b[0;31mHdfsError\u001b[0m                                 Traceback (most recent call last)",
      "File \u001b[0;32m~/miniconda3/lib/python3.11/site-packages/hdfs/client.py:580\u001b[0m, in \u001b[0;36mClient.upload\u001b[0;34m(self, hdfs_path, local_path, n_threads, temp_dir, chunk_size, progress, cleanup, **kwargs)\u001b[0m\n\u001b[1;32m    579\u001b[0m \u001b[39mtry\u001b[39;00m:\n\u001b[0;32m--> 580\u001b[0m   statuses \u001b[39m=\u001b[39m [status \u001b[39mfor\u001b[39;00m _, status \u001b[39min\u001b[39;00m \u001b[39mself\u001b[39;49m\u001b[39m.\u001b[39;49mlist(hdfs_path, status\u001b[39m=\u001b[39;49m\u001b[39mTrue\u001b[39;49;00m)]\n\u001b[1;32m    581\u001b[0m \u001b[39mexcept\u001b[39;00m HdfsError \u001b[39mas\u001b[39;00m err:\n",
      "File \u001b[0;32m~/miniconda3/lib/python3.11/site-packages/hdfs/client.py:1124\u001b[0m, in \u001b[0;36mClient.list\u001b[0;34m(self, hdfs_path, status)\u001b[0m\n\u001b[1;32m   1119\u001b[0m \u001b[39mif\u001b[39;00m \u001b[39mlen\u001b[39m(statuses) \u001b[39m==\u001b[39m \u001b[39m1\u001b[39m \u001b[39mand\u001b[39;00m (\n\u001b[1;32m   1120\u001b[0m   \u001b[39mnot\u001b[39;00m statuses[\u001b[39m0\u001b[39m][\u001b[39m'\u001b[39m\u001b[39mpathSuffix\u001b[39m\u001b[39m'\u001b[39m] \u001b[39mor\u001b[39;00m \u001b[39mself\u001b[39m\u001b[39m.\u001b[39mstatus(hdfs_path)[\u001b[39m'\u001b[39m\u001b[39mtype\u001b[39m\u001b[39m'\u001b[39m] \u001b[39m==\u001b[39m \u001b[39m'\u001b[39m\u001b[39mFILE\u001b[39m\u001b[39m'\u001b[39m\n\u001b[1;32m   1121\u001b[0m   \u001b[39m# HttpFS behaves incorrectly here, we sometimes need an extra call to\u001b[39;00m\n\u001b[1;32m   1122\u001b[0m   \u001b[39m# make sure we always identify if we are dealing with a file.\u001b[39;00m\n\u001b[1;32m   1123\u001b[0m ):\n\u001b[0;32m-> 1124\u001b[0m   \u001b[39mraise\u001b[39;00m HdfsError(\u001b[39m'\u001b[39m\u001b[39m%r\u001b[39;00m\u001b[39m is not a directory.\u001b[39m\u001b[39m'\u001b[39m, hdfs_path)\n\u001b[1;32m   1125\u001b[0m \u001b[39mif\u001b[39;00m status:\n",
      "\u001b[0;31mHdfsError\u001b[0m: '/raftlog/cpu/test1/statemachine.log' is not a directory.",
      "\nDuring handling of the above exception, another exception occurred:\n",
      "\u001b[0;31mHdfsError\u001b[0m                                 Traceback (most recent call last)",
      "\u001b[1;32m/home/jimx/codes/BasicUsages/Spark/all.ipynb Cell 8\u001b[0m line \u001b[0;36m4\n\u001b[1;32m      <a href='vscode-notebook-cell://ssh-remote%2Bs4-house/home/jimx/codes/BasicUsages/Spark/all.ipynb#X12sdnNjb2RlLXJlbW90ZQ%3D%3D?line=1'>2</a>\u001b[0m \u001b[39mfor\u001b[39;00m p \u001b[39min\u001b[39;00m tqdm(paths):\n\u001b[1;32m      <a href='vscode-notebook-cell://ssh-remote%2Bs4-house/home/jimx/codes/BasicUsages/Spark/all.ipynb#X12sdnNjb2RlLXJlbW90ZQ%3D%3D?line=2'>3</a>\u001b[0m     client\u001b[39m.\u001b[39mmakedirs(\u001b[39m\"\u001b[39m\u001b[39m/raftlog/cpu/\u001b[39m\u001b[39m\"\u001b[39m\u001b[39m+\u001b[39mp\u001b[39m.\u001b[39msplit(\u001b[39m'\u001b[39m\u001b[39m/\u001b[39m\u001b[39m'\u001b[39m)[\u001b[39m2\u001b[39m])\n\u001b[0;32m----> <a href='vscode-notebook-cell://ssh-remote%2Bs4-house/home/jimx/codes/BasicUsages/Spark/all.ipynb#X12sdnNjb2RlLXJlbW90ZQ%3D%3D?line=3'>4</a>\u001b[0m     client\u001b[39m.\u001b[39;49mupload(\u001b[39m\"\u001b[39;49m\u001b[39m/raftlog/cpu/\u001b[39;49m\u001b[39m\"\u001b[39;49m\u001b[39m+\u001b[39;49mp\u001b[39m.\u001b[39;49msplit(\u001b[39m'\u001b[39;49m\u001b[39m/\u001b[39;49m\u001b[39m'\u001b[39;49m)[\u001b[39m2\u001b[39;49m]\u001b[39m+\u001b[39;49m\u001b[39m\"\u001b[39;49m\u001b[39m/statemachine.log\u001b[39;49m\u001b[39m\"\u001b[39;49m, p)\n",
      "File \u001b[0;32m~/miniconda3/lib/python3.11/site-packages/hdfs/client.py:585\u001b[0m, in \u001b[0;36mClient.upload\u001b[0;34m(self, hdfs_path, local_path, n_threads, temp_dir, chunk_size, progress, cleanup, **kwargs)\u001b[0m\n\u001b[1;32m    582\u001b[0m \u001b[39mif\u001b[39;00m \u001b[39m'\u001b[39m\u001b[39mnot a directory\u001b[39m\u001b[39m'\u001b[39m \u001b[39min\u001b[39;00m err\u001b[39m.\u001b[39mmessage:\n\u001b[1;32m    583\u001b[0m   \u001b[39m# Remote path is a normal file.\u001b[39;00m\n\u001b[1;32m    584\u001b[0m   \u001b[39mif\u001b[39;00m \u001b[39mnot\u001b[39;00m kwargs\u001b[39m.\u001b[39mget(\u001b[39m'\u001b[39m\u001b[39moverwrite\u001b[39m\u001b[39m'\u001b[39m):\n\u001b[0;32m--> 585\u001b[0m     \u001b[39mraise\u001b[39;00m HdfsError(\u001b[39m'\u001b[39m\u001b[39mRemote path \u001b[39m\u001b[39m%r\u001b[39;00m\u001b[39m already exists.\u001b[39m\u001b[39m'\u001b[39m, hdfs_path)\n\u001b[1;32m    586\u001b[0m \u001b[39melif\u001b[39;00m \u001b[39m'\u001b[39m\u001b[39mdoes not exist\u001b[39m\u001b[39m'\u001b[39m \u001b[39min\u001b[39;00m err\u001b[39m.\u001b[39mmessage:\n\u001b[1;32m    587\u001b[0m   \u001b[39m# Remote path doesn't exist.\u001b[39;00m\n\u001b[1;32m    588\u001b[0m   temp_path \u001b[39m=\u001b[39m hdfs_path\n",
      "\u001b[0;31mHdfsError\u001b[0m: Remote path '/raftlog/cpu/test1/statemachine.log' already exists."
     ]
    }
   ],
   "source": [
    "# follower/cpu1/test1/raft/node1/region000100000000/statemachine.log -> /raftlog/cpu/test1/statemachine.log\n",
    "for p in tqdm(paths):\n",
    "    client.makedirs(\"/raftlog/cpu/\"+p.split('/')[2])\n",
    "    client.upload(\"/raftlog/cpu/\"+p.split('/')[2]+\"/statemachine.log\", p)"
   ]
  },
  {
   "cell_type": "code",
   "execution_count": null,
   "metadata": {},
   "outputs": [
    {
     "data": {
      "text/plain": [
       "[('/raftlog/cpu',\n",
       "  ['test1',\n",
       "   'test10',\n",
       "   'test11',\n",
       "   'test12',\n",
       "   'test13',\n",
       "   'test14',\n",
       "   'test16',\n",
       "   'test17',\n",
       "   'test18',\n",
       "   'test19',\n",
       "   'test2',\n",
       "   'test20',\n",
       "   'test3',\n",
       "   'test4',\n",
       "   'test5',\n",
       "   'test6',\n",
       "   'test7',\n",
       "   'test8',\n",
       "   'test9'],\n",
       "  []),\n",
       " ('/raftlog/cpu/test1', [], ['statemachine.log']),\n",
       " ('/raftlog/cpu/test10', [], ['statemachine.log']),\n",
       " ('/raftlog/cpu/test11', [], ['statemachine.log']),\n",
       " ('/raftlog/cpu/test12', [], ['statemachine.log']),\n",
       " ('/raftlog/cpu/test13', [], ['statemachine.log']),\n",
       " ('/raftlog/cpu/test14', [], ['statemachine.log']),\n",
       " ('/raftlog/cpu/test16', [], ['statemachine.log']),\n",
       " ('/raftlog/cpu/test17', [], ['statemachine.log']),\n",
       " ('/raftlog/cpu/test18', [], ['statemachine.log']),\n",
       " ('/raftlog/cpu/test19', [], ['statemachine.log']),\n",
       " ('/raftlog/cpu/test2', [], ['statemachine.log']),\n",
       " ('/raftlog/cpu/test20', [], ['statemachine.log']),\n",
       " ('/raftlog/cpu/test3', [], ['statemachine.log']),\n",
       " ('/raftlog/cpu/test4', [], ['statemachine.log']),\n",
       " ('/raftlog/cpu/test5', [], ['statemachine.log']),\n",
       " ('/raftlog/cpu/test6', [], ['statemachine.log']),\n",
       " ('/raftlog/cpu/test7', [], ['statemachine.log']),\n",
       " ('/raftlog/cpu/test8', [], ['statemachine.log']),\n",
       " ('/raftlog/cpu/test9', [], ['statemachine.log'])]"
      ]
     },
     "execution_count": 24,
     "metadata": {},
     "output_type": "execute_result"
    }
   ],
   "source": [
    "list(client.walk(\"/raftlog/cpu\",depth=2))"
   ]
  },
  {
   "cell_type": "markdown",
   "metadata": {},
   "source": [
    "# data stream"
   ]
  },
  {
   "cell_type": "code",
   "execution_count": null,
   "metadata": {},
   "outputs": [
    {
     "data": {
      "text/plain": [
       "{'accessTime': 1701054749177,\n",
       " 'blockSize': 134217728,\n",
       " 'childrenNum': 0,\n",
       " 'fileId': 16418,\n",
       " 'group': 'supergroup',\n",
       " 'length': 2851024,\n",
       " 'modificationTime': 1701054749763,\n",
       " 'owner': 'jimx',\n",
       " 'pathSuffix': '',\n",
       " 'permission': '644',\n",
       " 'replication': 1,\n",
       " 'storagePolicy': 0,\n",
       " 'type': 'FILE'}"
      ]
     },
     "execution_count": 27,
     "metadata": {},
     "output_type": "execute_result"
    }
   ],
   "source": [
    "from hdfs import InsecureClient\n",
    "client = InsecureClient(\"http://localhost:9870\", user=\"jimx\")\n",
    "client.status(\"/raftlog/cpu/test1/statemachine.log\")"
   ]
  },
  {
   "cell_type": "code",
   "execution_count": null,
   "metadata": {},
   "outputs": [
    {
     "data": {
      "text/plain": [
       "['test1',\n",
       " 'test10',\n",
       " 'test11',\n",
       " 'test12',\n",
       " 'test13',\n",
       " 'test14',\n",
       " 'test16',\n",
       " 'test17',\n",
       " 'test18',\n",
       " 'test19',\n",
       " 'test2',\n",
       " 'test20',\n",
       " 'test3',\n",
       " 'test4',\n",
       " 'test5',\n",
       " 'test6',\n",
       " 'test7',\n",
       " 'test8',\n",
       " 'test9']"
      ]
     },
     "execution_count": 33,
     "metadata": {},
     "output_type": "execute_result"
    }
   ],
   "source": [
    "client.list(\"/raftlog/cpu/\")"
   ]
  },
  {
   "cell_type": "code",
   "execution_count": null,
   "metadata": {},
   "outputs": [],
   "source": [
    "with client.read('/raftlog/cpu/test1/statemachine.log', encoding='utf-8') as reader:\n",
    "    content = reader.read()"
   ]
  },
  {
   "cell_type": "code",
   "execution_count": null,
   "metadata": {},
   "outputs": [],
   "source": []
  },
  {
   "cell_type": "markdown",
   "metadata": {},
   "source": [
    "# redis load"
   ]
  },
  {
   "cell_type": "code",
   "execution_count": null,
   "metadata": {},
   "outputs": [],
   "source": []
  },
  {
   "cell_type": "code",
   "execution_count": 1,
   "metadata": {},
   "outputs": [],
   "source": [
    "from redis import StrictRedis"
   ]
  },
  {
   "cell_type": "code",
   "execution_count": 45,
   "metadata": {},
   "outputs": [],
   "source": [
    "redis = StrictRedis(host=\"localhost\", port=6379, decode_responses=True, db=1)"
   ]
  },
  {
   "cell_type": "code",
   "execution_count": 58,
   "metadata": {},
   "outputs": [
    {
     "data": {
      "text/plain": [
       "639"
      ]
     },
     "execution_count": 58,
     "metadata": {},
     "output_type": "execute_result"
    }
   ],
   "source": [
    "redis.dbsize()"
   ]
  },
  {
   "cell_type": "code",
   "execution_count": 61,
   "metadata": {},
   "outputs": [
    {
     "data": {
      "text/plain": [
       "['2023-11-27 16:49:06',\n",
       " '2023-11-27 16:48:45',\n",
       " '2023-11-27 16:57:09',\n",
       " '2023-11-27 17:12:48',\n",
       " '2023-11-27 16:41:42']"
      ]
     },
     "execution_count": 61,
     "metadata": {},
     "output_type": "execute_result"
    }
   ],
   "source": [
    "redis.keys()[:5]"
   ]
  },
  {
   "cell_type": "code",
   "execution_count": 62,
   "metadata": {},
   "outputs": [
    {
     "data": {
      "text/plain": [
       "'3.8685440339871886'"
      ]
     },
     "execution_count": 62,
     "metadata": {},
     "output_type": "execute_result"
    }
   ],
   "source": [
    "redis.get(\"2023-11-27 16:49:06\")"
   ]
  },
  {
   "cell_type": "code",
   "execution_count": 42,
   "metadata": {},
   "outputs": [
    {
     "data": {
      "text/plain": [
       "True"
      ]
     },
     "execution_count": 42,
     "metadata": {},
     "output_type": "execute_result"
    }
   ],
   "source": [
    "# redis.flushall()"
   ]
  },
  {
   "cell_type": "code",
   "execution_count": 52,
   "metadata": {},
   "outputs": [
    {
     "data": {
      "text/plain": [
       "639"
      ]
     },
     "execution_count": 52,
     "metadata": {},
     "output_type": "execute_result"
    }
   ],
   "source": [
    "redis.dbsize()"
   ]
  },
  {
   "cell_type": "code",
   "execution_count": 54,
   "metadata": {},
   "outputs": [],
   "source": [
    "import matplotlib.pyplot as plt\n",
    "import datetime"
   ]
  },
  {
   "cell_type": "code",
   "execution_count": 57,
   "metadata": {},
   "outputs": [
    {
     "data": {
      "image/png": "[encoded data removed]",
      "text/plain": [
       "<Figure size 640x480 with 1 Axes>"
      ]
     },
     "metadata": {},
     "output_type": "display_data"
    }
   ],
   "source": [
    "# Assuming `redis` is your redis client\n",
    "keys = redis.keys()\n",
    "values = [redis.get(key) for key in keys]\n",
    "\n",
    "# Convert keys to datetime and values to float\n",
    "dates = [datetime.datetime.strptime(key, '%Y-%m-%d %H:%M:%S') for key in keys]\n",
    "values = [float(value) for value in values]\n",
    "\n",
    "# Create color list\n",
    "colors = ['red' if value > 20 else 'blue' for value in values]\n",
    "\n",
    "# Create scatter plot\n",
    "plt.scatter(dates, values, c=colors)\n",
    "plt.title('CPU Latency')\n",
    "plt.show()"
   ]
  },
  {
   "cell_type": "code",
   "execution_count": null,
   "metadata": {},
   "outputs": [],
   "source": []
  },
  {
   "cell_type": "code",
   "execution_count": null,
   "metadata": {},
   "outputs": [],
   "source": []
  }
 ],
 "metadata": {
  "kernelspec": {
   "display_name": "base",
   "language": "python",
   "name": "python3"
  },
  "language_info": {
   "codemirror_mode": {
    "name": "ipython",
    "version": 3
   },
   "file_extension": ".py",
   "mimetype": "text/x-python",
   "name": "python",
   "nbconvert_exporter": "python",
   "pygments_lexer": "ipython3",
   "version": "3.11.5"
  }
 },
 "nbformat": 4,
 "nbformat_minor": 2
}
